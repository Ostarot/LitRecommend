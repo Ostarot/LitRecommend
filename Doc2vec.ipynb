{
 "cells": [
  {
   "cell_type": "code",
   "execution_count": 1,
   "id": "9fe9e36d",
   "metadata": {},
   "outputs": [],
   "source": [
    "import pandas as pd\n",
    "import numpy as np\n",
    "from gensim.test.utils import common_texts\n",
    "from gensim.models.doc2vec import Doc2Vec, TaggedDocument\n",
    "\n",
    "import nltk\n",
    "from nltk.tokenize import word_tokenize\n",
    "from nltk.corpus import stopwords\n",
    "import string\n",
    "from string import punctuation\n",
    "import pymorphy2\n",
    "import math"
   ]
  },
  {
   "cell_type": "code",
   "execution_count": 2,
   "id": "0d33567b",
   "metadata": {},
   "outputs": [],
   "source": [
    "stop = stopwords.words('russian') \n",
    "pymorph = pymorphy2.MorphAnalyzer()\n",
    "def q_preprocess(query):\n",
    "    query = query.replace(r\"[^\\w]\", \" \")\n",
    "    query = query.replace(r\"[\\d]\", \" \")\n",
    "    query = query.lower()\n",
    "    filtered_sentence = ''\n",
    "    query = nltk.word_tokenize(query)\n",
    "    for w in query:\n",
    "        if w not in stop:\n",
    "            filtered_sentence = filtered_sentence + ' ' + pymorph.parse(w)[0].normal_form\n",
    "    return filtered_sentence"
   ]
  },
  {
   "cell_type": "code",
   "execution_count": 3,
   "id": "fa43494b",
   "metadata": {},
   "outputs": [
    {
     "data": {
      "text/html": [
       "<div>\n",
       "<style scoped>\n",
       "    .dataframe tbody tr th:only-of-type {\n",
       "        vertical-align: middle;\n",
       "    }\n",
       "\n",
       "    .dataframe tbody tr th {\n",
       "        vertical-align: top;\n",
       "    }\n",
       "\n",
       "    .dataframe thead th {\n",
       "        text-align: right;\n",
       "    }\n",
       "</style>\n",
       "<table border=\"1\" class=\"dataframe\">\n",
       "  <thead>\n",
       "    <tr style=\"text-align: right;\">\n",
       "      <th></th>\n",
       "      <th>tokens</th>\n",
       "      <th>name</th>\n",
       "      <th>text</th>\n",
       "      <th>author</th>\n",
       "      <th>cat</th>\n",
       "      <th>url</th>\n",
       "    </tr>\n",
       "  </thead>\n",
       "  <tbody>\n",
       "    <tr>\n",
       "      <th>count</th>\n",
       "      <td>25026</td>\n",
       "      <td>25026</td>\n",
       "      <td>25026</td>\n",
       "      <td>25026</td>\n",
       "      <td>25026</td>\n",
       "      <td>25026</td>\n",
       "    </tr>\n",
       "    <tr>\n",
       "      <th>unique</th>\n",
       "      <td>25026</td>\n",
       "      <td>24391</td>\n",
       "      <td>25026</td>\n",
       "      <td>9045</td>\n",
       "      <td>20403</td>\n",
       "      <td>25026</td>\n",
       "    </tr>\n",
       "    <tr>\n",
       "      <th>top</th>\n",
       "      <td>этот книга десятилетие определять судьба чело...</td>\n",
       "      <td>Возвращение</td>\n",
       "      <td>Эта книга о десятилетии, определяющем судьбу ч...</td>\n",
       "      <td>Неустановленный автор</td>\n",
       "      <td>Современные детективы;</td>\n",
       "      <td>https://mybook.ru/author/meg-dzhej/vazhnye-god...</td>\n",
       "    </tr>\n",
       "    <tr>\n",
       "      <th>freq</th>\n",
       "      <td>1</td>\n",
       "      <td>13</td>\n",
       "      <td>1</td>\n",
       "      <td>471</td>\n",
       "      <td>130</td>\n",
       "      <td>1</td>\n",
       "    </tr>\n",
       "  </tbody>\n",
       "</table>\n",
       "</div>"
      ],
      "text/plain": [
       "                                                   tokens         name  \\\n",
       "count                                               25026        25026   \n",
       "unique                                              25026        24391   \n",
       "top      этот книга десятилетие определять судьба чело...  Возвращение   \n",
       "freq                                                    1           13   \n",
       "\n",
       "                                                     text  \\\n",
       "count                                               25026   \n",
       "unique                                              25026   \n",
       "top     Эта книга о десятилетии, определяющем судьбу ч...   \n",
       "freq                                                    1   \n",
       "\n",
       "                       author                     cat  \\\n",
       "count                   25026                   25026   \n",
       "unique                   9045                   20403   \n",
       "top     Неустановленный автор  Современные детективы;   \n",
       "freq                      471                     130   \n",
       "\n",
       "                                                      url  \n",
       "count                                               25026  \n",
       "unique                                              25026  \n",
       "top     https://mybook.ru/author/meg-dzhej/vazhnye-god...  \n",
       "freq                                                    1  "
      ]
     },
     "execution_count": 3,
     "metadata": {},
     "output_type": "execute_result"
    }
   ],
   "source": [
    "df = pd.read_csv('dataset.csv', encoding = 'utf8')\n",
    "df.describe()"
   ]
  },
  {
   "cell_type": "code",
   "execution_count": 4,
   "id": "7e27485b",
   "metadata": {},
   "outputs": [],
   "source": [
    "documents = [TaggedDocument(doc.split(), [i]) for i, doc in enumerate(df['tokens'])]"
   ]
  },
  {
   "cell_type": "code",
   "execution_count": 5,
   "id": "e5cff240",
   "metadata": {},
   "outputs": [],
   "source": [
    "model = Doc2Vec(documents, vector_size=50, min_count=2, epochs = 80)"
   ]
  },
  {
   "cell_type": "code",
   "execution_count": 205,
   "id": "05eacfa1",
   "metadata": {},
   "outputs": [],
   "source": [
    "model.save(\"doc2vec.model\")"
   ]
  },
  {
   "cell_type": "code",
   "execution_count": 274,
   "id": "443c600b",
   "metadata": {},
   "outputs": [],
   "source": [
    "vector = model.infer_vector(q_preprocess('герой спасает принцессу из замка').split())"
   ]
  },
  {
   "cell_type": "code",
   "execution_count": 253,
   "id": "72300d32",
   "metadata": {},
   "outputs": [
    {
     "name": "stdout",
     "output_type": "stream",
     "text": [
      "[(1095, 0.6513590812683105), (24056, 0.6379069685935974), (504, 0.6322513818740845), (10208, 0.6310149431228638), (12696, 0.6281949281692505)]\n"
     ]
    }
   ],
   "source": [
    "sims = model.dv.most_similar(vector, topn=5)\n",
    "print(sims)"
   ]
  },
  {
   "cell_type": "code",
   "execution_count": 6,
   "id": "438fab4e",
   "metadata": {},
   "outputs": [
    {
     "data": {
      "text/plain": [
       "'Не каждая Золушка мечтает стать принцессой. Иногда бывает и по-другому. Ты – хозяйка трактира, рядом друзья, и жизнь идет своим чередом… И ты не ведаешь и не гадаешь, что сказка уже совсем рядом. Когда жизнь наполнена любимым делом, а сердце – верой в добро и заботой о людях, то счастье обязательно постучится в двери, даже если его не ждешь. В любом мире и времени найдется своя Золушка, ведь больше всего люди любят… любовь!'"
      ]
     },
     "execution_count": 6,
     "metadata": {},
     "output_type": "execute_result"
    }
   ],
   "source": [
    "df['text'][1095]"
   ]
  },
  {
   "cell_type": "markdown",
   "id": "3aad8da9",
   "metadata": {},
   "source": [
    "### Тестирование"
   ]
  },
  {
   "cell_type": "code",
   "execution_count": null,
   "id": "cf8d848e",
   "metadata": {},
   "outputs": [],
   "source": [
    "def otiai_similarity(list1, list2):\n",
    "    intersection = len(list(set(list1).intersection(list2)))\n",
    "    sqrt = math.sqrt((len(list1) * len(list2)))\n",
    "    return float(intersection) / sqrt"
   ]
  },
  {
   "cell_type": "code",
   "execution_count": 307,
   "id": "f73fbaf1",
   "metadata": {},
   "outputs": [
    {
     "name": "stdout",
     "output_type": "stream",
     "text": [
      "Wall time: 4.53 ms\n"
     ]
    },
    {
     "data": {
      "text/plain": [
       "[(857, 0.9792442321777344), (1068, 0.9406984448432922)]"
      ]
     },
     "execution_count": 307,
     "metadata": {},
     "output_type": "execute_result"
    }
   ],
   "source": [
    "%%time\n",
    "vector = model.infer_vector(df['tokens'][857].split())\n",
    "sims = model.dv.most_similar(vector, topn=2)\n",
    "sims"
   ]
  },
  {
   "cell_type": "code",
   "execution_count": 306,
   "id": "1ccb6b74",
   "metadata": {},
   "outputs": [
    {
     "name": "stdout",
     "output_type": "stream",
     "text": [
      "0.737114896342883\n",
      "15\n"
     ]
    }
   ],
   "source": [
    "jcds = np.array([])\n",
    "for i in range(1000):\n",
    "    inferred_vector = model.infer_vector(documents[i].words)\n",
    "    sims = model.dv.most_similar([inferred_vector], topn=2)\n",
    "    if sims[1][1] > 0.8:\n",
    "        jd = otiai_similarity(df['cat'][i].split(';'), df['cat'][sims[1][0]].split(';'))\n",
    "        jcds = np.append(jcds, jd)\n",
    "print(sum(jcds)/len(jcds))\n",
    "print(len(jcds))"
   ]
  }
 ],
 "metadata": {
  "kernelspec": {
   "display_name": "Python 3 (ipykernel)",
   "language": "python",
   "name": "python3"
  },
  "language_info": {
   "codemirror_mode": {
    "name": "ipython",
    "version": 3
   },
   "file_extension": ".py",
   "mimetype": "text/x-python",
   "name": "python",
   "nbconvert_exporter": "python",
   "pygments_lexer": "ipython3",
   "version": "3.9.7"
  }
 },
 "nbformat": 4,
 "nbformat_minor": 5
}
