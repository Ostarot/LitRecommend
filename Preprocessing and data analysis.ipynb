{
 "cells": [
  {
   "cell_type": "code",
   "execution_count": 1,
   "id": "b1e4bb1f",
   "metadata": {},
   "outputs": [],
   "source": [
    "import pandas as pd\n",
    "import numpy as np\n",
    "import csv\n",
    "import pymorphy2\n",
    "\n",
    "import nltk\n",
    "from nltk.tokenize import word_tokenize\n",
    "from nltk.corpus import stopwords\n",
    "import string\n",
    "from string import punctuation\n",
    "\n",
    "import matplotlib.pyplot as plt\n",
    "from matplotlib import pylab\n",
    "\n",
    "from collections import Counter\n",
    "\n",
    "from nltk import pos_tag"
   ]
  },
  {
   "cell_type": "code",
   "execution_count": 3,
   "id": "0afa6f88",
   "metadata": {},
   "outputs": [],
   "source": [
    "from nltk.stem.snowball import RussianStemmer\n",
    "stemmer = RussianStemmer(False)\n",
    "#stemmer.stem(w) "
   ]
  },
  {
   "cell_type": "code",
   "execution_count": 4,
   "id": "6f3651a8",
   "metadata": {},
   "outputs": [],
   "source": [
    "stop = stopwords.words('russian')\n",
    "pymorph = pymorphy2.MorphAnalyzer()\n",
    "\n",
    "def lemm(words):\n",
    "    words = nltk.word_tokenize(words)\n",
    "    filtered_sentence = ''\n",
    "    for w in words:\n",
    "        if w not in stop:\n",
    "            filtered_sentence = filtered_sentence + ' ' + pymorph.parse(w)[0].normal_form\n",
    "    return filtered_sentence"
   ]
  },
  {
   "cell_type": "code",
   "execution_count": 2,
   "id": "8989a369",
   "metadata": {},
   "outputs": [],
   "source": [
    "def preproces(data):\n",
    "    data.dropna(subset=['text'], inplace=True) \n",
    "    data.reset_index(inplace=True, drop=True) \n",
    "    data['tokens'] = data['text'].str.replace(r\"[^\\w]\", \" \") \n",
    "    data['tokens'] = data['tokens'].str.replace(r\"[\\d]\", \" \")\n",
    "    data['tokens'] = data['tokens'].str.lower()\n",
    "    data['tokens'] = data['tokens'].apply(lemm)\n",
    "    df = pd.DataFrame()\n",
    "    df['tokens'] = data['tokens'].values\n",
    "    df['name'] = data['name'].values\n",
    "    df['text'] = data['text'].values\n",
    "    df['author'] = data['author'].values\n",
    "    df['cat'] = data['categories'].values\n",
    "    df['url'] = data['link'].values\n",
    "    df.dropna(subset=['tokens'], inplace=True)\n",
    "    df.drop_duplicates(subset=['tokens'], inplace = True)    \n",
    "    df.dropna(subset=['tokens'], inplace=True) \n",
    "    #df = df.query('tokens != \"---\"')\n",
    "    return df"
   ]
  },
  {
   "cell_type": "code",
   "execution_count": 42,
   "id": "c1c60b38",
   "metadata": {},
   "outputs": [
    {
     "data": {
      "text/html": [
       "<div>\n",
       "<style scoped>\n",
       "    .dataframe tbody tr th:only-of-type {\n",
       "        vertical-align: middle;\n",
       "    }\n",
       "\n",
       "    .dataframe tbody tr th {\n",
       "        vertical-align: top;\n",
       "    }\n",
       "\n",
       "    .dataframe thead th {\n",
       "        text-align: right;\n",
       "    }\n",
       "</style>\n",
       "<table border=\"1\" class=\"dataframe\">\n",
       "  <thead>\n",
       "    <tr style=\"text-align: right;\">\n",
       "      <th></th>\n",
       "      <th>name</th>\n",
       "      <th>text</th>\n",
       "      <th>author</th>\n",
       "      <th>categories</th>\n",
       "      <th>link</th>\n",
       "    </tr>\n",
       "  </thead>\n",
       "  <tbody>\n",
       "    <tr>\n",
       "      <th>0</th>\n",
       "      <td>Важные годы. Почему не стоит откладывать жизнь...</td>\n",
       "      <td>Эта книга о десятилетии, определяющем судьбу ч...</td>\n",
       "      <td>Мэг Джей</td>\n",
       "      <td>Саморазвитие, личностный рост;Личная эффективн...</td>\n",
       "      <td>https://mybook.ru/author/meg-dzhej/vazhnye-god...</td>\n",
       "    </tr>\n",
       "    <tr>\n",
       "      <th>1</th>\n",
       "      <td>Цветы для Элджернона</td>\n",
       "      <td>Сорок лет назад это считалось фантастикой.Соро...</td>\n",
       "      <td>Дэниел Киз</td>\n",
       "      <td>Научная фантастика;Зарубежная фантастика;экран...</td>\n",
       "      <td>https://mybook.ru/author/deniel-kiz/cvety-dlya...</td>\n",
       "    </tr>\n",
       "    <tr>\n",
       "      <th>2</th>\n",
       "      <td>Подсознание может всё!</td>\n",
       "      <td>Использование огромных резервов, скрытых в под...</td>\n",
       "      <td>Джон Кехо</td>\n",
       "      <td>Эзотерика, оккультизм;Практическая эзотерика;т...</td>\n",
       "      <td>https://mybook.ru/author/dzhon-keho/podsoznani...</td>\n",
       "    </tr>\n",
       "    <tr>\n",
       "      <th>3</th>\n",
       "      <td>Sapiens. Краткая история человечества</td>\n",
       "      <td>Сто тысяч лет назад Homo sapiens был одним из ...</td>\n",
       "      <td>Юваль Ной Харари</td>\n",
       "      <td>Зарубежная образовательная литература;Научно-п...</td>\n",
       "      <td>https://mybook.ru/author/yuval-harari/sapiens-...</td>\n",
       "    </tr>\n",
       "    <tr>\n",
       "      <th>4</th>\n",
       "      <td>Выбор. О свободе и внутренней силе человека</td>\n",
       "      <td>Эдит Ева Эгер в юном возрасте была отправлена ...</td>\n",
       "      <td>Эдит Ева Эгер</td>\n",
       "      <td>Биографии и мемуары;Зарубежная публицистика;си...</td>\n",
       "      <td>https://mybook.ru/author/edit-eva-eger/vybor-33/</td>\n",
       "    </tr>\n",
       "  </tbody>\n",
       "</table>\n",
       "</div>"
      ],
      "text/plain": [
       "                                                name  \\\n",
       "0  Важные годы. Почему не стоит откладывать жизнь...   \n",
       "1                               Цветы для Элджернона   \n",
       "2                             Подсознание может всё!   \n",
       "3              Sapiens. Краткая история человечества   \n",
       "4        Выбор. О свободе и внутренней силе человека   \n",
       "\n",
       "                                                text            author  \\\n",
       "0  Эта книга о десятилетии, определяющем судьбу ч...          Мэг Джей   \n",
       "1  Сорок лет назад это считалось фантастикой.Соро...        Дэниел Киз   \n",
       "2  Использование огромных резервов, скрытых в под...         Джон Кехо   \n",
       "3  Сто тысяч лет назад Homo sapiens был одним из ...  Юваль Ной Харари   \n",
       "4  Эдит Ева Эгер в юном возрасте была отправлена ...     Эдит Ева Эгер   \n",
       "\n",
       "                                          categories  \\\n",
       "0  Саморазвитие, личностный рост;Личная эффективн...   \n",
       "1  Научная фантастика;Зарубежная фантастика;экран...   \n",
       "2  Эзотерика, оккультизм;Практическая эзотерика;т...   \n",
       "3  Зарубежная образовательная литература;Научно-п...   \n",
       "4  Биографии и мемуары;Зарубежная публицистика;си...   \n",
       "\n",
       "                                                link  \n",
       "0  https://mybook.ru/author/meg-dzhej/vazhnye-god...  \n",
       "1  https://mybook.ru/author/deniel-kiz/cvety-dlya...  \n",
       "2  https://mybook.ru/author/dzhon-keho/podsoznani...  \n",
       "3  https://mybook.ru/author/yuval-harari/sapiens-...  \n",
       "4   https://mybook.ru/author/edit-eva-eger/vybor-33/  "
      ]
     },
     "execution_count": 42,
     "metadata": {},
     "output_type": "execute_result"
    }
   ],
   "source": [
    "data = pd.read_csv('books_3155.csv', encoding = 'utf8')\n",
    "data.head()"
   ]
  },
  {
   "cell_type": "code",
   "execution_count": 24,
   "id": "4d07a9ef",
   "metadata": {},
   "outputs": [
    {
     "data": {
      "text/html": [
       "<div>\n",
       "<style scoped>\n",
       "    .dataframe tbody tr th:only-of-type {\n",
       "        vertical-align: middle;\n",
       "    }\n",
       "\n",
       "    .dataframe tbody tr th {\n",
       "        vertical-align: top;\n",
       "    }\n",
       "\n",
       "    .dataframe thead th {\n",
       "        text-align: right;\n",
       "    }\n",
       "</style>\n",
       "<table border=\"1\" class=\"dataframe\">\n",
       "  <thead>\n",
       "    <tr style=\"text-align: right;\">\n",
       "      <th></th>\n",
       "      <th>name</th>\n",
       "      <th>text</th>\n",
       "      <th>author</th>\n",
       "      <th>categories</th>\n",
       "      <th>link</th>\n",
       "    </tr>\n",
       "  </thead>\n",
       "  <tbody>\n",
       "    <tr>\n",
       "      <th>count</th>\n",
       "      <td>31550</td>\n",
       "      <td>31192</td>\n",
       "      <td>31550</td>\n",
       "      <td>31384</td>\n",
       "      <td>31550</td>\n",
       "    </tr>\n",
       "    <tr>\n",
       "      <th>unique</th>\n",
       "      <td>25032</td>\n",
       "      <td>25215</td>\n",
       "      <td>9125</td>\n",
       "      <td>20575</td>\n",
       "      <td>25714</td>\n",
       "    </tr>\n",
       "    <tr>\n",
       "      <th>top</th>\n",
       "      <td>Стихотворения</td>\n",
       "      <td>Вниманию читателя предлагается сборник анекдот...</td>\n",
       "      <td>Неустановленный автор</td>\n",
       "      <td>Современные детективы;</td>\n",
       "      <td>https://mybook.ru/author/vadim-panov/vojny-nac...</td>\n",
       "    </tr>\n",
       "    <tr>\n",
       "      <th>freq</th>\n",
       "      <td>15</td>\n",
       "      <td>17</td>\n",
       "      <td>588</td>\n",
       "      <td>182</td>\n",
       "      <td>4</td>\n",
       "    </tr>\n",
       "  </tbody>\n",
       "</table>\n",
       "</div>"
      ],
      "text/plain": [
       "                 name                                               text  \\\n",
       "count           31550                                              31192   \n",
       "unique          25032                                              25215   \n",
       "top     Стихотворения  Вниманию читателя предлагается сборник анекдот...   \n",
       "freq               15                                                 17   \n",
       "\n",
       "                       author              categories  \\\n",
       "count                   31550                   31384   \n",
       "unique                   9125                   20575   \n",
       "top     Неустановленный автор  Современные детективы;   \n",
       "freq                      588                     182   \n",
       "\n",
       "                                                     link  \n",
       "count                                               31550  \n",
       "unique                                              25714  \n",
       "top     https://mybook.ru/author/vadim-panov/vojny-nac...  \n",
       "freq                                                    4  "
      ]
     },
     "execution_count": 24,
     "metadata": {},
     "output_type": "execute_result"
    }
   ],
   "source": [
    "data.describe()"
   ]
  },
  {
   "cell_type": "code",
   "execution_count": 43,
   "id": "9c0e5a68",
   "metadata": {},
   "outputs": [
    {
     "name": "stderr",
     "output_type": "stream",
     "text": [
      "C:\\Users\\meli-\\AppData\\Local\\Temp/ipykernel_23224/2760454791.py:4: FutureWarning: The default value of regex will change from True to False in a future version.\n",
      "  data['tokens'] = data['text'].str.replace(r\"[^\\w]\", \" \") #убираем все знаки препинания, кроме слов\n",
      "C:\\Users\\meli-\\AppData\\Local\\Temp/ipykernel_23224/2760454791.py:5: FutureWarning: The default value of regex will change from True to False in a future version.\n",
      "  data['tokens'] = data['tokens'].str.replace(r\"[\\d]\", \" \") #убираем цифры\n"
     ]
    },
    {
     "data": {
      "text/html": [
       "<div>\n",
       "<style scoped>\n",
       "    .dataframe tbody tr th:only-of-type {\n",
       "        vertical-align: middle;\n",
       "    }\n",
       "\n",
       "    .dataframe tbody tr th {\n",
       "        vertical-align: top;\n",
       "    }\n",
       "\n",
       "    .dataframe thead th {\n",
       "        text-align: right;\n",
       "    }\n",
       "</style>\n",
       "<table border=\"1\" class=\"dataframe\">\n",
       "  <thead>\n",
       "    <tr style=\"text-align: right;\">\n",
       "      <th></th>\n",
       "      <th>tokens</th>\n",
       "      <th>name</th>\n",
       "      <th>text</th>\n",
       "      <th>author</th>\n",
       "      <th>cat</th>\n",
       "      <th>url</th>\n",
       "    </tr>\n",
       "  </thead>\n",
       "  <tbody>\n",
       "    <tr>\n",
       "      <th>count</th>\n",
       "      <td>25152</td>\n",
       "      <td>25152</td>\n",
       "      <td>25152</td>\n",
       "      <td>25152</td>\n",
       "      <td>25028</td>\n",
       "      <td>25152</td>\n",
       "    </tr>\n",
       "    <tr>\n",
       "      <th>unique</th>\n",
       "      <td>25152</td>\n",
       "      <td>24506</td>\n",
       "      <td>25152</td>\n",
       "      <td>9103</td>\n",
       "      <td>20403</td>\n",
       "      <td>25152</td>\n",
       "    </tr>\n",
       "    <tr>\n",
       "      <th>top</th>\n",
       "      <td>эт книг десятилет определя судьб человек инве...</td>\n",
       "      <td>Возвращение</td>\n",
       "      <td>Эта книга о десятилетии, определяющем судьбу ч...</td>\n",
       "      <td>Неустановленный автор</td>\n",
       "      <td>Современные детективы;</td>\n",
       "      <td>https://mybook.ru/author/meg-dzhej/vazhnye-god...</td>\n",
       "    </tr>\n",
       "    <tr>\n",
       "      <th>freq</th>\n",
       "      <td>1</td>\n",
       "      <td>13</td>\n",
       "      <td>1</td>\n",
       "      <td>480</td>\n",
       "      <td>130</td>\n",
       "      <td>1</td>\n",
       "    </tr>\n",
       "  </tbody>\n",
       "</table>\n",
       "</div>"
      ],
      "text/plain": [
       "                                                   tokens         name  \\\n",
       "count                                               25152        25152   \n",
       "unique                                              25152        24506   \n",
       "top      эт книг десятилет определя судьб человек инве...  Возвращение   \n",
       "freq                                                    1           13   \n",
       "\n",
       "                                                     text  \\\n",
       "count                                               25152   \n",
       "unique                                              25152   \n",
       "top     Эта книга о десятилетии, определяющем судьбу ч...   \n",
       "freq                                                    1   \n",
       "\n",
       "                       author                     cat  \\\n",
       "count                   25152                   25028   \n",
       "unique                   9103                   20403   \n",
       "top     Неустановленный автор  Современные детективы;   \n",
       "freq                      480                     130   \n",
       "\n",
       "                                                      url  \n",
       "count                                               25152  \n",
       "unique                                              25152  \n",
       "top     https://mybook.ru/author/meg-dzhej/vazhnye-god...  \n",
       "freq                                                    1  "
      ]
     },
     "execution_count": 43,
     "metadata": {},
     "output_type": "execute_result"
    }
   ],
   "source": [
    "df = preproces(data)\n",
    "df.describe()"
   ]
  },
  {
   "cell_type": "code",
   "execution_count": 44,
   "id": "59f6de27",
   "metadata": {},
   "outputs": [],
   "source": [
    "df.to_csv('dataset.csv', index=False)"
   ]
  },
  {
   "cell_type": "markdown",
   "id": "23188727",
   "metadata": {},
   "source": [
    "# Анализ данных"
   ]
  },
  {
   "cell_type": "code",
   "execution_count": 5,
   "id": "f284814c",
   "metadata": {},
   "outputs": [
    {
     "data": {
      "text/html": [
       "<div>\n",
       "<style scoped>\n",
       "    .dataframe tbody tr th:only-of-type {\n",
       "        vertical-align: middle;\n",
       "    }\n",
       "\n",
       "    .dataframe tbody tr th {\n",
       "        vertical-align: top;\n",
       "    }\n",
       "\n",
       "    .dataframe thead th {\n",
       "        text-align: right;\n",
       "    }\n",
       "</style>\n",
       "<table border=\"1\" class=\"dataframe\">\n",
       "  <thead>\n",
       "    <tr style=\"text-align: right;\">\n",
       "      <th></th>\n",
       "      <th>tokens</th>\n",
       "      <th>name</th>\n",
       "      <th>text</th>\n",
       "      <th>author</th>\n",
       "      <th>cat</th>\n",
       "      <th>url</th>\n",
       "    </tr>\n",
       "  </thead>\n",
       "  <tbody>\n",
       "    <tr>\n",
       "      <th>0</th>\n",
       "      <td>этот книга десятилетие определять судьба чело...</td>\n",
       "      <td>Важные годы. Почему не стоит откладывать жизнь...</td>\n",
       "      <td>Эта книга о десятилетии, определяющем судьбу ч...</td>\n",
       "      <td>Мэг Джей</td>\n",
       "      <td>Саморазвитие, личностный рост;Личная эффективн...</td>\n",
       "      <td>https://mybook.ru/author/meg-dzhej/vazhnye-god...</td>\n",
       "    </tr>\n",
       "    <tr>\n",
       "      <th>1</th>\n",
       "      <td>сорок год назад это считаться фантастика соро...</td>\n",
       "      <td>Цветы для Элджернона</td>\n",
       "      <td>Сорок лет назад это считалось фантастикой.Соро...</td>\n",
       "      <td>Дэниел Киз</td>\n",
       "      <td>Научная фантастика;Зарубежная фантастика;экран...</td>\n",
       "      <td>https://mybook.ru/author/deniel-kiz/cvety-dlya...</td>\n",
       "    </tr>\n",
       "    <tr>\n",
       "      <th>2</th>\n",
       "      <td>использование огромный резерв скрытый подсозн...</td>\n",
       "      <td>Подсознание может всё!</td>\n",
       "      <td>Использование огромных резервов, скрытых в под...</td>\n",
       "      <td>Джон Кехо</td>\n",
       "      <td>Эзотерика, оккультизм;Практическая эзотерика;т...</td>\n",
       "      <td>https://mybook.ru/author/dzhon-keho/podsoznani...</td>\n",
       "    </tr>\n",
       "    <tr>\n",
       "      <th>3</th>\n",
       "      <td>сто тысяча год назад homo sapiens один миниму...</td>\n",
       "      <td>Sapiens. Краткая история человечества</td>\n",
       "      <td>Сто тысяч лет назад Homo sapiens был одним из ...</td>\n",
       "      <td>Юваль Ной Харари</td>\n",
       "      <td>Зарубежная образовательная литература;Научно-п...</td>\n",
       "      <td>https://mybook.ru/author/yuval-harari/sapiens-...</td>\n",
       "    </tr>\n",
       "    <tr>\n",
       "      <th>4</th>\n",
       "      <td>эдита ева эгер юный возраст отправить вместе ...</td>\n",
       "      <td>Выбор. О свободе и внутренней силе человека</td>\n",
       "      <td>Эдит Ева Эгер в юном возрасте была отправлена ...</td>\n",
       "      <td>Эдит Ева Эгер</td>\n",
       "      <td>Биографии и мемуары;Зарубежная публицистика;си...</td>\n",
       "      <td>https://mybook.ru/author/edit-eva-eger/vybor-33/</td>\n",
       "    </tr>\n",
       "  </tbody>\n",
       "</table>\n",
       "</div>"
      ],
      "text/plain": [
       "                                              tokens  \\\n",
       "0   этот книга десятилетие определять судьба чело...   \n",
       "1   сорок год назад это считаться фантастика соро...   \n",
       "2   использование огромный резерв скрытый подсозн...   \n",
       "3   сто тысяча год назад homo sapiens один миниму...   \n",
       "4   эдита ева эгер юный возраст отправить вместе ...   \n",
       "\n",
       "                                                name  \\\n",
       "0  Важные годы. Почему не стоит откладывать жизнь...   \n",
       "1                               Цветы для Элджернона   \n",
       "2                             Подсознание может всё!   \n",
       "3              Sapiens. Краткая история человечества   \n",
       "4        Выбор. О свободе и внутренней силе человека   \n",
       "\n",
       "                                                text            author  \\\n",
       "0  Эта книга о десятилетии, определяющем судьбу ч...          Мэг Джей   \n",
       "1  Сорок лет назад это считалось фантастикой.Соро...        Дэниел Киз   \n",
       "2  Использование огромных резервов, скрытых в под...         Джон Кехо   \n",
       "3  Сто тысяч лет назад Homo sapiens был одним из ...  Юваль Ной Харари   \n",
       "4  Эдит Ева Эгер в юном возрасте была отправлена ...     Эдит Ева Эгер   \n",
       "\n",
       "                                                 cat  \\\n",
       "0  Саморазвитие, личностный рост;Личная эффективн...   \n",
       "1  Научная фантастика;Зарубежная фантастика;экран...   \n",
       "2  Эзотерика, оккультизм;Практическая эзотерика;т...   \n",
       "3  Зарубежная образовательная литература;Научно-п...   \n",
       "4  Биографии и мемуары;Зарубежная публицистика;си...   \n",
       "\n",
       "                                                 url  \n",
       "0  https://mybook.ru/author/meg-dzhej/vazhnye-god...  \n",
       "1  https://mybook.ru/author/deniel-kiz/cvety-dlya...  \n",
       "2  https://mybook.ru/author/dzhon-keho/podsoznani...  \n",
       "3  https://mybook.ru/author/yuval-harari/sapiens-...  \n",
       "4   https://mybook.ru/author/edit-eva-eger/vybor-33/  "
      ]
     },
     "execution_count": 5,
     "metadata": {},
     "output_type": "execute_result"
    }
   ],
   "source": [
    "data = pd.read_csv('dataset.csv', encoding = 'utf8')\n",
    "data.head()"
   ]
  },
  {
   "cell_type": "markdown",
   "id": "893847fa",
   "metadata": {},
   "source": [
    "### Зависимость количества от длины"
   ]
  },
  {
   "cell_type": "code",
   "execution_count": 7,
   "id": "acce4af0",
   "metadata": {},
   "outputs": [
    {
     "name": "stdout",
     "output_type": "stream",
     "text": [
      "1599160 words total, with a vocabulary size of 66804\n",
      "Max sentence length is 375\n",
      "Mean sentence length is 63.89994405817949\n"
     ]
    }
   ],
   "source": [
    "all_words = [word for tokens in data[\"tokens\"].str.split() for word in tokens]\n",
    "sentence_lengths = [len(tokens) for tokens in data[\"tokens\"].str.split()]\n",
    "VOCAB = sorted(list(set(all_words)))\n",
    "print(\"%s words total, with a vocabulary size of %s\" % (len(all_words), len(VOCAB)))\n",
    "print(\"Max sentence length is %s\" % max(sentence_lengths))\n",
    "print(\"Mean sentence length is %s\" % (sum(sentence_lengths)/len(sentence_lengths)))"
   ]
  },
  {
   "cell_type": "code",
   "execution_count": 8,
   "id": "222f67fd",
   "metadata": {},
   "outputs": [
    {
     "data": {
      "image/png": "[encoded data removed]",
      "text/plain": [
       "<Figure size 720x720 with 1 Axes>"
      ]
     },
     "metadata": {
      "needs_background": "light"
     },
     "output_type": "display_data"
    }
   ],
   "source": [
    "fig = plt.figure(figsize=(10, 10)) \n",
    "plt.xlabel('Длина аннотации')\n",
    "plt.ylabel('Количество документов')\n",
    "plt.hist(sentence_lengths)\n",
    "plt.show()"
   ]
  },
  {
   "cell_type": "code",
   "execution_count": 36,
   "id": "ce0f629a",
   "metadata": {},
   "outputs": [
    {
     "data": {
      "text/plain": [
       "247"
      ]
     },
     "execution_count": 36,
     "metadata": {},
     "output_type": "execute_result"
    }
   ],
   "source": [
    "sorted(sentence_lengths)[25125]"
   ]
  },
  {
   "cell_type": "code",
   "execution_count": 35,
   "id": "f394f6e5",
   "metadata": {},
   "outputs": [
    {
     "data": {
      "image/png": "[encoded data removed]",
      "text/plain": [
       "<Figure size 720x720 with 1 Axes>"
      ]
     },
     "metadata": {
      "needs_background": "light"
     },
     "output_type": "display_data"
    }
   ],
   "source": [
    "fig = plt.figure(figsize=(10, 10)) \n",
    "plt.xlabel('Длина аннотации')\n",
    "plt.ylabel('Количество документов')\n",
    "plt.hist(sorted(sentence_lengths)[0:25125])\n",
    "plt.show()"
   ]
  },
  {
   "cell_type": "markdown",
   "id": "02cffdc3",
   "metadata": {},
   "source": [
    "### Пос-тегирование"
   ]
  },
  {
   "cell_type": "code",
   "execution_count": 206,
   "id": "c5c7d280",
   "metadata": {},
   "outputs": [],
   "source": [
    "all_tags = np.array([])\n",
    "for pt in pos_tag(VOCAB, lang='rus'):\n",
    "    all_tags = np.append(all_tags, pt[1])"
   ]
  },
  {
   "cell_type": "code",
   "execution_count": 220,
   "id": "d76e7d22",
   "metadata": {},
   "outputs": [],
   "source": [
    "tags = Counter(all_tags).most_common(15)"
   ]
  },
  {
   "cell_type": "code",
   "execution_count": 221,
   "id": "5edc9661",
   "metadata": {},
   "outputs": [
    {
     "data": {
      "text/html": [
       "<div>\n",
       "<style scoped>\n",
       "    .dataframe tbody tr th:only-of-type {\n",
       "        vertical-align: middle;\n",
       "    }\n",
       "\n",
       "    .dataframe tbody tr th {\n",
       "        vertical-align: top;\n",
       "    }\n",
       "\n",
       "    .dataframe thead th {\n",
       "        text-align: right;\n",
       "    }\n",
       "</style>\n",
       "<table border=\"1\" class=\"dataframe\">\n",
       "  <thead>\n",
       "    <tr style=\"text-align: right;\">\n",
       "      <th></th>\n",
       "      <th>Часть речи</th>\n",
       "      <th>Количество</th>\n",
       "    </tr>\n",
       "  </thead>\n",
       "  <tbody>\n",
       "    <tr>\n",
       "      <th>0</th>\n",
       "      <td>S</td>\n",
       "      <td>38518</td>\n",
       "    </tr>\n",
       "    <tr>\n",
       "      <th>1</th>\n",
       "      <td>V</td>\n",
       "      <td>12471</td>\n",
       "    </tr>\n",
       "    <tr>\n",
       "      <th>2</th>\n",
       "      <td>A=m</td>\n",
       "      <td>10179</td>\n",
       "    </tr>\n",
       "    <tr>\n",
       "      <th>3</th>\n",
       "      <td>NONLEX</td>\n",
       "      <td>2757</td>\n",
       "    </tr>\n",
       "    <tr>\n",
       "      <th>4</th>\n",
       "      <td>ADV</td>\n",
       "      <td>1780</td>\n",
       "    </tr>\n",
       "    <tr>\n",
       "      <th>5</th>\n",
       "      <td>A=f</td>\n",
       "      <td>571</td>\n",
       "    </tr>\n",
       "    <tr>\n",
       "      <th>6</th>\n",
       "      <td>A=n</td>\n",
       "      <td>90</td>\n",
       "    </tr>\n",
       "    <tr>\n",
       "      <th>7</th>\n",
       "      <td>PR</td>\n",
       "      <td>62</td>\n",
       "    </tr>\n",
       "    <tr>\n",
       "      <th>8</th>\n",
       "      <td>A=pl</td>\n",
       "      <td>60</td>\n",
       "    </tr>\n",
       "    <tr>\n",
       "      <th>9</th>\n",
       "      <td>A=sg</td>\n",
       "      <td>34</td>\n",
       "    </tr>\n",
       "    <tr>\n",
       "      <th>10</th>\n",
       "      <td>ADV-PRO</td>\n",
       "      <td>33</td>\n",
       "    </tr>\n",
       "    <tr>\n",
       "      <th>11</th>\n",
       "      <td>A-PRO=m</td>\n",
       "      <td>32</td>\n",
       "    </tr>\n",
       "    <tr>\n",
       "      <th>12</th>\n",
       "      <td>PART</td>\n",
       "      <td>25</td>\n",
       "    </tr>\n",
       "    <tr>\n",
       "      <th>13</th>\n",
       "      <td>S-PRO</td>\n",
       "      <td>20</td>\n",
       "    </tr>\n",
       "    <tr>\n",
       "      <th>14</th>\n",
       "      <td>PRAEDIC</td>\n",
       "      <td>19</td>\n",
       "    </tr>\n",
       "  </tbody>\n",
       "</table>\n",
       "</div>"
      ],
      "text/plain": [
       "   Часть речи  Количество\n",
       "0           S       38518\n",
       "1           V       12471\n",
       "2         A=m       10179\n",
       "3      NONLEX        2757\n",
       "4         ADV        1780\n",
       "5         A=f         571\n",
       "6         A=n          90\n",
       "7          PR          62\n",
       "8        A=pl          60\n",
       "9        A=sg          34\n",
       "10    ADV-PRO          33\n",
       "11    A-PRO=m          32\n",
       "12       PART          25\n",
       "13      S-PRO          20\n",
       "14    PRAEDIC          19"
      ]
     },
     "execution_count": 221,
     "metadata": {},
     "output_type": "execute_result"
    }
   ],
   "source": [
    "df = pd.DataFrame.from_dict(tags)\n",
    "df.columns = ['Часть речи','Количество']\n",
    "df"
   ]
  },
  {
   "cell_type": "code",
   "execution_count": 219,
   "id": "34141da3",
   "metadata": {},
   "outputs": [
    {
     "data": {
      "text/plain": [
       "<AxesSubplot:xlabel='Часть речи'>"
      ]
     },
     "execution_count": 219,
     "metadata": {},
     "output_type": "execute_result"
    },
    {
     "data": {
      "image/png": "[encoded data removed]",
      "text/plain": [
       "<Figure size 432x288 with 1 Axes>"
      ]
     },
     "metadata": {
      "needs_background": "light"
     },
     "output_type": "display_data"
    }
   ],
   "source": [
    "df.plot.bar(x=0, rot=90)"
   ]
  },
  {
   "cell_type": "markdown",
   "id": "e8269450",
   "metadata": {},
   "source": [
    "### Самые частые категории"
   ]
  },
  {
   "cell_type": "code",
   "execution_count": 132,
   "id": "f0986a2e",
   "metadata": {},
   "outputs": [],
   "source": [
    "data.dropna(subset=['cat'], inplace=True)"
   ]
  },
  {
   "cell_type": "code",
   "execution_count": 133,
   "id": "2a73cc94",
   "metadata": {},
   "outputs": [],
   "source": [
    "cats = Counter(\" \".join(data[\"cat\"]).split(';')).most_common(10)"
   ]
  },
  {
   "cell_type": "code",
   "execution_count": 136,
   "id": "68b72c8a",
   "metadata": {},
   "outputs": [
    {
     "data": {
      "text/html": [
       "<div>\n",
       "<style scoped>\n",
       "    .dataframe tbody tr th:only-of-type {\n",
       "        vertical-align: middle;\n",
       "    }\n",
       "\n",
       "    .dataframe tbody tr th {\n",
       "        vertical-align: top;\n",
       "    }\n",
       "\n",
       "    .dataframe thead th {\n",
       "        text-align: right;\n",
       "    }\n",
       "</style>\n",
       "<table border=\"1\" class=\"dataframe\">\n",
       "  <thead>\n",
       "    <tr style=\"text-align: right;\">\n",
       "      <th></th>\n",
       "      <th>Жанр/тема</th>\n",
       "      <th>Количество книг</th>\n",
       "    </tr>\n",
       "  </thead>\n",
       "  <tbody>\n",
       "    <tr>\n",
       "      <th>0</th>\n",
       "      <td>становление героя</td>\n",
       "      <td>1676</td>\n",
       "    </tr>\n",
       "    <tr>\n",
       "      <th>1</th>\n",
       "      <td>Современные детективы</td>\n",
       "      <td>1533</td>\n",
       "    </tr>\n",
       "    <tr>\n",
       "      <th>2</th>\n",
       "      <td>Героическое фэнтези</td>\n",
       "      <td>1485</td>\n",
       "    </tr>\n",
       "    <tr>\n",
       "      <th>3</th>\n",
       "      <td>магические миры</td>\n",
       "      <td>1327</td>\n",
       "    </tr>\n",
       "    <tr>\n",
       "      <th>4</th>\n",
       "      <td>Попаданцы</td>\n",
       "      <td>1181</td>\n",
       "    </tr>\n",
       "    <tr>\n",
       "      <th>5</th>\n",
       "      <td>Саморазвитие, личностный рост</td>\n",
       "      <td>1134</td>\n",
       "    </tr>\n",
       "    <tr>\n",
       "      <th>6</th>\n",
       "      <td>Боевая фантастика</td>\n",
       "      <td>1112</td>\n",
       "    </tr>\n",
       "    <tr>\n",
       "      <th>7</th>\n",
       "      <td>опасные приключения</td>\n",
       "      <td>1047</td>\n",
       "    </tr>\n",
       "    <tr>\n",
       "      <th>8</th>\n",
       "      <td>Любовное фэнтези</td>\n",
       "      <td>980</td>\n",
       "    </tr>\n",
       "    <tr>\n",
       "      <th>9</th>\n",
       "      <td>сверхспособности</td>\n",
       "      <td>971</td>\n",
       "    </tr>\n",
       "  </tbody>\n",
       "</table>\n",
       "</div>"
      ],
      "text/plain": [
       "                        Жанр/тема  Количество книг\n",
       "0               становление героя             1676\n",
       "1           Современные детективы             1533\n",
       "2             Героическое фэнтези             1485\n",
       "3                 магические миры             1327\n",
       "4                       Попаданцы             1181\n",
       "5   Саморазвитие, личностный рост             1134\n",
       "6               Боевая фантастика             1112\n",
       "7             опасные приключения             1047\n",
       "8                Любовное фэнтези              980\n",
       "9                сверхспособности              971"
      ]
     },
     "execution_count": 136,
     "metadata": {},
     "output_type": "execute_result"
    }
   ],
   "source": [
    "df = pd.DataFrame.from_dict(cats)\n",
    "df.columns = ['Жанр/тема','Количество книг']\n",
    "df"
   ]
  },
  {
   "cell_type": "code",
   "execution_count": 139,
   "id": "24183c03",
   "metadata": {},
   "outputs": [
    {
     "data": {
      "text/plain": [
       "<AxesSubplot:xlabel='Жанр/тема'>"
      ]
     },
     "execution_count": 139,
     "metadata": {},
     "output_type": "execute_result"
    },
    {
     "data": {
      "image/png": "[encoded data removed]",
      "text/plain": [
       "<Figure size 432x288 with 1 Axes>"
      ]
     },
     "metadata": {
      "needs_background": "light"
     },
     "output_type": "display_data"
    }
   ],
   "source": [
    "df.plot.bar(x=0, rot=90)"
   ]
  },
  {
   "cell_type": "markdown",
   "id": "c199ee67",
   "metadata": {},
   "source": [
    "### Самые частые авторы"
   ]
  },
  {
   "cell_type": "code",
   "execution_count": 234,
   "id": "1904de2c",
   "metadata": {},
   "outputs": [],
   "source": [
    "authors = Counter(data[\"author\"]).most_common(12)"
   ]
  },
  {
   "cell_type": "code",
   "execution_count": 235,
   "id": "146c47c0",
   "metadata": {},
   "outputs": [
    {
     "data": {
      "text/plain": [
       "[('Неустановленный автор', 480),\n",
       " ('Дарья Донцова', 228),\n",
       " ('Наталья Александрова', 220),\n",
       " ('Коллектив авторов', 165),\n",
       " ('Чингиз Абдуллаев', 142),\n",
       " ('Марина Серова', 132),\n",
       " ('Стивен Кинг', 127),\n",
       " ('Анна и Сергей Литвиновы', 110),\n",
       " ('Дарья Калинина', 106),\n",
       " ('Том Батлер-Боудон', 100),\n",
       " ('Сергей Лукьяненко', 95),\n",
       " ('Дина Рубина', 95)]"
      ]
     },
     "execution_count": 235,
     "metadata": {},
     "output_type": "execute_result"
    }
   ],
   "source": [
    "authors"
   ]
  },
  {
   "cell_type": "code",
   "execution_count": 237,
   "id": "af2c25b8",
   "metadata": {},
   "outputs": [
    {
     "data": {
      "text/html": [
       "<div>\n",
       "<style scoped>\n",
       "    .dataframe tbody tr th:only-of-type {\n",
       "        vertical-align: middle;\n",
       "    }\n",
       "\n",
       "    .dataframe tbody tr th {\n",
       "        vertical-align: top;\n",
       "    }\n",
       "\n",
       "    .dataframe thead th {\n",
       "        text-align: right;\n",
       "    }\n",
       "</style>\n",
       "<table border=\"1\" class=\"dataframe\">\n",
       "  <thead>\n",
       "    <tr style=\"text-align: right;\">\n",
       "      <th></th>\n",
       "      <th>Автор</th>\n",
       "      <th>Количество книг</th>\n",
       "    </tr>\n",
       "  </thead>\n",
       "  <tbody>\n",
       "    <tr>\n",
       "      <th>0</th>\n",
       "      <td>Неустановленный автор</td>\n",
       "      <td>480</td>\n",
       "    </tr>\n",
       "    <tr>\n",
       "      <th>1</th>\n",
       "      <td>Дарья Донцова</td>\n",
       "      <td>228</td>\n",
       "    </tr>\n",
       "    <tr>\n",
       "      <th>2</th>\n",
       "      <td>Наталья Александрова</td>\n",
       "      <td>220</td>\n",
       "    </tr>\n",
       "    <tr>\n",
       "      <th>3</th>\n",
       "      <td>Коллектив авторов</td>\n",
       "      <td>165</td>\n",
       "    </tr>\n",
       "    <tr>\n",
       "      <th>4</th>\n",
       "      <td>Чингиз Абдуллаев</td>\n",
       "      <td>142</td>\n",
       "    </tr>\n",
       "    <tr>\n",
       "      <th>5</th>\n",
       "      <td>Марина Серова</td>\n",
       "      <td>132</td>\n",
       "    </tr>\n",
       "    <tr>\n",
       "      <th>6</th>\n",
       "      <td>Стивен Кинг</td>\n",
       "      <td>127</td>\n",
       "    </tr>\n",
       "    <tr>\n",
       "      <th>7</th>\n",
       "      <td>Анна и Сергей Литвиновы</td>\n",
       "      <td>110</td>\n",
       "    </tr>\n",
       "    <tr>\n",
       "      <th>8</th>\n",
       "      <td>Дарья Калинина</td>\n",
       "      <td>106</td>\n",
       "    </tr>\n",
       "    <tr>\n",
       "      <th>9</th>\n",
       "      <td>Том Батлер-Боудон</td>\n",
       "      <td>100</td>\n",
       "    </tr>\n",
       "    <tr>\n",
       "      <th>10</th>\n",
       "      <td>Сергей Лукьяненко</td>\n",
       "      <td>95</td>\n",
       "    </tr>\n",
       "    <tr>\n",
       "      <th>11</th>\n",
       "      <td>Дина Рубина</td>\n",
       "      <td>95</td>\n",
       "    </tr>\n",
       "  </tbody>\n",
       "</table>\n",
       "</div>"
      ],
      "text/plain": [
       "                      Автор  Количество книг\n",
       "0     Неустановленный автор              480\n",
       "1             Дарья Донцова              228\n",
       "2      Наталья Александрова              220\n",
       "3         Коллектив авторов              165\n",
       "4          Чингиз Абдуллаев              142\n",
       "5             Марина Серова              132\n",
       "6               Стивен Кинг              127\n",
       "7   Анна и Сергей Литвиновы              110\n",
       "8            Дарья Калинина              106\n",
       "9         Том Батлер-Боудон              100\n",
       "10        Сергей Лукьяненко               95\n",
       "11              Дина Рубина               95"
      ]
     },
     "execution_count": 237,
     "metadata": {},
     "output_type": "execute_result"
    }
   ],
   "source": [
    "df = pd.DataFrame.from_dict(authors)\n",
    "df.columns = ['Автор','Количество книг']\n",
    "df"
   ]
  },
  {
   "cell_type": "code",
   "execution_count": 238,
   "id": "a23c6199",
   "metadata": {},
   "outputs": [
    {
     "data": {
      "text/plain": [
       "<AxesSubplot:xlabel='Автор'>"
      ]
     },
     "execution_count": 238,
     "metadata": {},
     "output_type": "execute_result"
    },
    {
     "data": {
      "image/png": "[encoded data removed]",
      "text/plain": [
       "<Figure size 432x288 with 1 Axes>"
      ]
     },
     "metadata": {
      "needs_background": "light"
     },
     "output_type": "display_data"
    }
   ],
   "source": [
    "df.plot.bar(x=0, rot=90)"
   ]
  },
  {
   "cell_type": "markdown",
   "id": "07d0f5f6",
   "metadata": {},
   "source": [
    "### Самые частые слова"
   ]
  },
  {
   "cell_type": "code",
   "execution_count": 226,
   "id": "9cd5fee3",
   "metadata": {},
   "outputs": [],
   "source": [
    "data.dropna(subset=['tokens'], inplace=True)\n",
    "common_words = Counter(\" \".join(data[\"tokens\"]).split()).most_common(10)"
   ]
  },
  {
   "cell_type": "code",
   "execution_count": 227,
   "id": "01cdf2cd",
   "metadata": {},
   "outputs": [],
   "source": [
    "df = pd.DataFrame.from_dict(common_words)\n",
    "df.columns = ['Слово','Количество упоминаний в коллекции']"
   ]
  },
  {
   "cell_type": "code",
   "execution_count": 228,
   "id": "62a56fee",
   "metadata": {},
   "outputs": [
    {
     "data": {
      "text/html": [
       "<div>\n",
       "<style scoped>\n",
       "    .dataframe tbody tr th:only-of-type {\n",
       "        vertical-align: middle;\n",
       "    }\n",
       "\n",
       "    .dataframe tbody tr th {\n",
       "        vertical-align: top;\n",
       "    }\n",
       "\n",
       "    .dataframe thead th {\n",
       "        text-align: right;\n",
       "    }\n",
       "</style>\n",
       "<table border=\"1\" class=\"dataframe\">\n",
       "  <thead>\n",
       "    <tr style=\"text-align: right;\">\n",
       "      <th></th>\n",
       "      <th>Слово</th>\n",
       "      <th>Количество упоминаний в коллекции</th>\n",
       "    </tr>\n",
       "  </thead>\n",
       "  <tbody>\n",
       "    <tr>\n",
       "      <th>0</th>\n",
       "      <td>и</td>\n",
       "      <td>105532</td>\n",
       "    </tr>\n",
       "    <tr>\n",
       "      <th>1</th>\n",
       "      <td>в</td>\n",
       "      <td>75687</td>\n",
       "    </tr>\n",
       "    <tr>\n",
       "      <th>2</th>\n",
       "      <td>не</td>\n",
       "      <td>32012</td>\n",
       "    </tr>\n",
       "    <tr>\n",
       "      <th>3</th>\n",
       "      <td>на</td>\n",
       "      <td>31574</td>\n",
       "    </tr>\n",
       "    <tr>\n",
       "      <th>4</th>\n",
       "      <td>с</td>\n",
       "      <td>26244</td>\n",
       "    </tr>\n",
       "    <tr>\n",
       "      <th>5</th>\n",
       "      <td>он</td>\n",
       "      <td>24460</td>\n",
       "    </tr>\n",
       "    <tr>\n",
       "      <th>6</th>\n",
       "      <td>что</td>\n",
       "      <td>21535</td>\n",
       "    </tr>\n",
       "    <tr>\n",
       "      <th>7</th>\n",
       "      <td>она</td>\n",
       "      <td>18213</td>\n",
       "    </tr>\n",
       "    <tr>\n",
       "      <th>8</th>\n",
       "      <td>книга</td>\n",
       "      <td>17014</td>\n",
       "    </tr>\n",
       "    <tr>\n",
       "      <th>9</th>\n",
       "      <td>который</td>\n",
       "      <td>15916</td>\n",
       "    </tr>\n",
       "  </tbody>\n",
       "</table>\n",
       "</div>"
      ],
      "text/plain": [
       "     Слово  Количество упоминаний в коллекции\n",
       "0        и                             105532\n",
       "1        в                              75687\n",
       "2       не                              32012\n",
       "3       на                              31574\n",
       "4        с                              26244\n",
       "5       он                              24460\n",
       "6      что                              21535\n",
       "7      она                              18213\n",
       "8    книга                              17014\n",
       "9  который                              15916"
      ]
     },
     "execution_count": 228,
     "metadata": {},
     "output_type": "execute_result"
    }
   ],
   "source": [
    "df"
   ]
  },
  {
   "cell_type": "code",
   "execution_count": 229,
   "id": "f982855f",
   "metadata": {},
   "outputs": [
    {
     "data": {
      "text/plain": [
       "<AxesSubplot:xlabel='Слово'>"
      ]
     },
     "execution_count": 229,
     "metadata": {},
     "output_type": "execute_result"
    },
    {
     "data": {
      "image/png": "[encoded data removed]",
      "text/plain": [
       "<Figure size 432x288 with 1 Axes>"
      ]
     },
     "metadata": {
      "needs_background": "light"
     },
     "output_type": "display_data"
    }
   ],
   "source": [
    "df.plot.bar(x=0, rot=30)"
   ]
  },
  {
   "cell_type": "markdown",
   "id": "c30a401b",
   "metadata": {},
   "source": [
    "### Самые частые биграммы"
   ]
  },
  {
   "cell_type": "code",
   "execution_count": 157,
   "id": "91da5d10",
   "metadata": {},
   "outputs": [
    {
     "data": {
      "text/plain": [
       "{('этот', 'книга'): 1972,\n",
       " ('сохранный', 'издательский'): 835,\n",
       " ('издательский', 'макет'): 777,\n",
       " ('человек', 'который'): 714,\n",
       " ('сам', 'дело'): 671,\n",
       " ('друг', 'друг'): 649,\n",
       " ('один', 'самый'): 611,\n",
       " ('широкий', 'круг'): 588,\n",
       " ('весь', 'мир'): 555,\n",
       " ('русский', 'язык'): 554}"
      ]
     },
     "execution_count": 157,
     "metadata": {},
     "output_type": "execute_result"
    }
   ],
   "source": [
    "from nltk.util import ngrams\n",
    "n_gram = 2\n",
    "n_gram_dic = dict(Counter(ngrams(all_words, n_gram)).most_common(10))\n",
    "n_gram_dic"
   ]
  },
  {
   "cell_type": "code",
   "execution_count": 165,
   "id": "1a486985",
   "metadata": {},
   "outputs": [],
   "source": [
    "df = pd.DataFrame.from_dict(n_gram_dic, orient='index')\n",
    "df.columns = ['Количество упоминаний в коллекции']"
   ]
  },
  {
   "cell_type": "code",
   "execution_count": 166,
   "id": "f9bb73cb",
   "metadata": {},
   "outputs": [
    {
     "data": {
      "text/plain": [
       "<AxesSubplot:>"
      ]
     },
     "execution_count": 166,
     "metadata": {},
     "output_type": "execute_result"
    },
    {
     "data": {
      "image/png": "[encoded data removed]",
      "text/plain": [
       "<Figure size 432x288 with 1 Axes>"
      ]
     },
     "metadata": {
      "needs_background": "light"
     },
     "output_type": "display_data"
    }
   ],
   "source": [
    "df.plot.bar(y=0, rot=90)"
   ]
  },
  {
   "cell_type": "markdown",
   "id": "b4b630ed",
   "metadata": {},
   "source": [
    "### Закон Ципфа"
   ]
  },
  {
   "cell_type": "code",
   "execution_count": 40,
   "id": "bf81bfc2",
   "metadata": {},
   "outputs": [
    {
     "name": "stdout",
     "output_type": "stream",
     "text": [
      "книга 17014\n"
     ]
    }
   ],
   "source": [
    "s = all_words\n",
    "di = {}\n",
    "for word in s:\n",
    "    if word in di.keys():\n",
    "        di[word] += 1\n",
    "    else:\n",
    "        di[word] = 1\n",
    "key = max(di, key=di.get)\n",
    "print(key, di[key])\n",
    "list_d = list(di.items())\n",
    "list_d.sort(key=lambda i: -i[1])"
   ]
  },
  {
   "cell_type": "code",
   "execution_count": 41,
   "id": "c80dd028",
   "metadata": {},
   "outputs": [
    {
     "data": {
      "image/png": "[encoded data removed]",
      "text/plain": [
       "<Figure size 432x288 with 1 Axes>"
      ]
     },
     "metadata": {
      "needs_background": "light"
     },
     "output_type": "display_data"
    }
   ],
   "source": [
    "n = len(list_d)\n",
    "ranks = range(1, n+1)\n",
    "freqs = [freq for (word, freq) in list_d] \n",
    "freqs1 = [freqs[0]/r for r in ranks]\n",
    "pylab.loglog(ranks, freqs)\n",
    "pylab.loglog(ranks, freqs1)\n",
    "pylab.xlabel('log(Ранг)')\n",
    "pylab.ylabel('log(Частота)')\n",
    "pylab.show()"
   ]
  },
  {
   "cell_type": "code",
   "execution_count": 42,
   "id": "0a3bf9cc",
   "metadata": {},
   "outputs": [],
   "source": [
    "rrr = [freqs[0]/i for i in range(1, n+1)]"
   ]
  },
  {
   "cell_type": "code",
   "execution_count": 43,
   "id": "94a25551",
   "metadata": {},
   "outputs": [
    {
     "data": {
      "image/png": "[encoded data removed]",
      "text/plain": [
       "<Figure size 432x288 with 1 Axes>"
      ]
     },
     "metadata": {
      "needs_background": "light"
     },
     "output_type": "display_data"
    }
   ],
   "source": [
    "pylab.plot(ranks[0:1000], freqs[0:1000]) #this plots frequency, not relative frequency , label='alice'\n",
    "pylab.plot(ranks[0:1000], rrr[0:1000], color = 'r', linestyle='dashed')\n",
    "#pylab.plot([1,freqs[0]],[freqs[0],1],color='r')\n",
    "pylab.xlabel('Ранг')\n",
    "pylab.ylabel('Частота')\n",
    "pylab.legend ( (\"Ранг-частота коллекции\", \"Теоретический закон Ципфа\") )\n",
    "pylab.show()"
   ]
  },
  {
   "cell_type": "markdown",
   "id": "067d7a32",
   "metadata": {},
   "source": [
    "### Закон Хипса"
   ]
  },
  {
   "cell_type": "code",
   "execution_count": 10,
   "id": "5349c702",
   "metadata": {},
   "outputs": [
    {
     "name": "stdout",
     "output_type": "stream",
     "text": [
      "1599160 words total, with a vocabulary size of 66804\n",
      "Max sentence length is 375\n"
     ]
    }
   ],
   "source": [
    "all_words = [word for tokens in data[\"tokens\"].str.split() for word in tokens]\n",
    "sentence_lengths = [len(tokens) for tokens in data[\"tokens\"].str.split()]\n",
    "VOCAB = sorted(list(set(all_words)))\n",
    "print(\"%s words total, with a vocabulary size of %s\" % (len(all_words), len(VOCAB)))\n",
    "print(\"Max sentence length is %s\" % max(sentence_lengths))"
   ]
  },
  {
   "cell_type": "code",
   "execution_count": 11,
   "id": "359018de",
   "metadata": {},
   "outputs": [],
   "source": [
    "voc = set()\n",
    "doc_num = []\n",
    "num_words = []\n",
    "ss = 0\n",
    "for st in data['tokens']:\n",
    "    for s in st.split():\n",
    "        voc.add(s)\n",
    "    ss = ss + len(st.split())\n",
    "    doc_num.append(ss)\n",
    "    num_words.append(len(voc))"
   ]
  },
  {
   "cell_type": "code",
   "execution_count": 12,
   "id": "4e5967d6",
   "metadata": {},
   "outputs": [
    {
     "data": {
      "image/png": "[encoded data removed]",
      "text/plain": [
       "<Figure size 432x288 with 1 Axes>"
      ]
     },
     "metadata": {
      "needs_background": "light"
     },
     "output_type": "display_data"
    }
   ],
   "source": [
    "pylab.plot(doc_num, num_words)\n",
    "pylab.xlabel('Количество слов в документах')\n",
    "pylab.ylabel('Количество слов в словаре')\n",
    "pylab.show()"
   ]
  }
 ],
 "metadata": {
  "kernelspec": {
   "display_name": "Python 3 (ipykernel)",
   "language": "python",
   "name": "python3"
  },
  "language_info": {
   "codemirror_mode": {
    "name": "ipython",
    "version": 3
   },
   "file_extension": ".py",
   "mimetype": "text/x-python",
   "name": "python",
   "nbconvert_exporter": "python",
   "pygments_lexer": "ipython3",
   "version": "3.9.7"
  }
 },
 "nbformat": 4,
 "nbformat_minor": 5
}
